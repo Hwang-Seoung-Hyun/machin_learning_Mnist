{
 "cells": [
  {
   "cell_type": "code",
   "execution_count": 1,
   "id": "aacc241c",
   "metadata": {},
   "outputs": [],
   "source": [
    "# Python ≥3.5 is required\n",
    "import sys\n",
    "assert sys.version_info >= (3, 5)\n",
    "\n",
    "# Scikit-Learn ≥0.20 is required\n",
    "import sklearn\n",
    "assert sklearn.__version__ >= \"0.20\"\n",
    "\n",
    "# Common imports\n",
    "import numpy as np\n",
    "import os\n",
    "\n",
    "# to make this notebook's output stable across runs\n",
    "np.random.seed(42)\n",
    "\n",
    "# To plot pretty figures\n",
    "%matplotlib inline\n",
    "import matplotlib as mpl\n",
    "import matplotlib.pyplot as plt\n",
    "mpl.rc('axes', labelsize=14)\n",
    "mpl.rc('xtick', labelsize=12)\n",
    "mpl.rc('ytick', labelsize=12)\n",
    "\n",
    "# Where to save the figures\n",
    "PROJECT_ROOT_DIR = \".\"\n",
    "CHAPTER_ID = \"ensembles\"\n",
    "IMAGES_PATH = os.path.join(PROJECT_ROOT_DIR, \"images\", CHAPTER_ID)\n",
    "os.makedirs(IMAGES_PATH, exist_ok=True)\n",
    "\n",
    "def save_fig(fig_id, tight_layout=True, fig_extension=\"png\", resolution=300):\n",
    "    path = os.path.join(IMAGES_PATH, fig_id + \".\" + fig_extension)\n",
    "    print(\"Saving figure\", fig_id)\n",
    "    if tight_layout:\n",
    "        plt.tight_layout()\n",
    "    plt.savefig(path, format=fig_extension, dpi=resolution)"
   ]
  },
  {
   "cell_type": "markdown",
   "id": "1abff428",
   "metadata": {},
   "source": [
    "# Get the data"
   ]
  },
  {
   "cell_type": "code",
   "execution_count": 2,
   "id": "30e5003e",
   "metadata": {},
   "outputs": [],
   "source": [
    "from sklearn.datasets import fetch_openml\n",
    "\n",
    "mnist = fetch_openml('mnist_784', version=1)\n",
    "mnist.target = mnist.target.astype(np.uint8)"
   ]
  },
  {
   "cell_type": "code",
   "execution_count": 3,
   "id": "88e4899a",
   "metadata": {},
   "outputs": [],
   "source": [
    "#완성된 함수\n",
    "from PIL import Image\n",
    "import math\n",
    "import time\n",
    "def img_to_mnist(start,n_img,img_type,is_scan=True):\n",
    "    global X_mnist\n",
    "    for n in range(start-1,n_img):\n",
    "        t=0.0 \n",
    "        st=time.time()\n",
    "        #imige upload\n",
    "        if img_type == \"png\":\n",
    "            im=Image.open('./mnist/MNIST-{}.png'.format(n+1)).convert('RGB')#이미지 업로드 ./mnist에서 'MNIST-n.png' 파일 업로드\n",
    "        elif img_type == \"jpg\":\n",
    "            im=Image.open('./mnist/MNIST-{}.jpg'.format(n+1)).convert('RGB')#이미지 업로드 ./mnist에서 'MNIST-n.jpg' 파일 업로드\n",
    "        #흑백처리\n",
    "        for i in range (0,im.size[1]):\n",
    "                for j in range(0,im.size[0]):\n",
    "                    r=im.getpixel((j,i))\n",
    "                    r_avg=math.ceil((r[0]+r[1]+r[2])/3)\n",
    "                    im.putpixel((j,i),(r_avg,r_avg,r_avg))\n",
    "\n",
    "             \n",
    "        white_img=im\n",
    "        #표 테두리 좌표 구하기\n",
    "        max_x=0\n",
    "        min_x=10000\n",
    "        max_y=0\n",
    "        min_y=10000\n",
    "        for i in range (2,im.size[1]-2):\n",
    "            for j in range(2,im.size[0]-2):\n",
    "                if im.getpixel((j,i))[0]<=230:#노이즈를 대비해 230이하로 검은색검출\n",
    "                    max_x=max(max_x,j)\n",
    "                    max_y=max(max_y,i)\n",
    "                    min_x=min(min_x,j)\n",
    "                    min_y=min(min_y,i)\n",
    "        print(\"min_x :\",min_x,\"min_y :\",min_y,\"max_x :\",max_x,\"max_y :\",max_y)\n",
    "        cropped_img=white_img.crop((min_x,min_y,max_x+1,max_y+1))#표부분만 자르기\n",
    "        \n",
    "        \n",
    "        shift_x=0\n",
    "        shift_y=0\n",
    "        \n",
    "        #shift_x 탐색\n",
    "        if is_scan==True:\n",
    "            shift_x_row=0\n",
    "            for i in range (min_y,max_y+1):\n",
    "                for j in range(0,im.size[0]):\n",
    "                    if im.getpixel((j,i))[0]<=230:\n",
    "                        shift_x_row=j-min_x\n",
    "#                         print(\"shift_x_row :\",shift_x_row,\"pixel :\",im.getpixel((j,i))[0])\n",
    "                        if shift_x_row>5:\n",
    "                            shift_x_row=0\n",
    "                        break\n",
    "                shift_x=max(shift_x,shift_x_row)\n",
    "                        \n",
    "             #shift_y 탐색\n",
    "            shift_y_row=0\n",
    "            for j in range(min_x,max_x+1):   \n",
    "                for i in range (0,im.size[1]):\n",
    "                     if im.getpixel((j,i))[0]<=230:\n",
    "                            shift_y_row=i-min_y\n",
    "                            if shift_y_row>5:\n",
    "                                shift_y_row=0\n",
    "                            break\n",
    "                shift_y=max(shift_y,shift_y_row)\n",
    "            print(\"shift_x :\",shift_x,\"shift_y :\",shift_y)              \n",
    "                            \n",
    "        pre_img=cropped_img.resize((280+int(shift_x*280/380),280+int(shift_y*280/380)))#280*280 픽셀로 변경,테두리 외곡된 만큼 더 크게 만듬\n",
    "        print(\"size =\",pre_img.size)\n",
    "        for i in range (0,10):\n",
    "            #테두리 위치 찾기\n",
    "            bound_x=0\n",
    "            bound_y=0\n",
    "            if is_scan==True:\n",
    "                bound_x_row=100\n",
    "                for y in range(0,int(shift_y*280/380)+1):\n",
    "                    for x in range(0,int(shift_x*280/380)+1):\n",
    "                        if pre_img.getpixel((x,i*28+bound_y))[0]<=240:\n",
    "                            bound_x_row=min(x,bound_x_row)\n",
    "#                             print(\"bound_x_row :\",bound_x_row)\n",
    "                            break\n",
    "                    if bound_x_row<100:\n",
    "                        bound_x=max(bound_x_row,bound_x)\n",
    "\n",
    "                        \n",
    "                            \n",
    "            for j in range (0,10):\n",
    "                row=np.array([])\n",
    "                bound_y=0\n",
    "                #테두리 위치 찾기\n",
    "                if is_scan==True:\n",
    "                    bound_y_row=100\n",
    "                    for y in range(0,int(shift_y*280/380)+1):\n",
    "#                             if i==0 and j==0:\n",
    "#                                 print(pre_img.getpixel((x,y))[0])\n",
    "                            if pre_img.getpixel((j*28+bound_x,y))[0]<=230:\n",
    "                                bound_y_row=min(y,bound_y_row)\n",
    "                                break\n",
    "                    if bound_y_row<100:\n",
    "                        bound_y=max(bound_y_row,bound_y)\n",
    "            \n",
    "#                       print(j,i,\":\",bound_x,bound_y,pre_img.getpixel((j*28+bound_x,i*28+bound_y)))               \n",
    "                plusx=0\n",
    "                plusy=0\n",
    "                if bound_x>0:\n",
    "                    plusx=1\n",
    "                if bound_y>0:\n",
    "                    plusy=1\n",
    "                \n",
    "              \n",
    "                mnist_img=pre_img.crop((j*28+bound_x+plusx,i*28+bound_y+plusy,(j+1)*28+bound_x+plusx,(i+1)*28+bound_y+plusy))\n",
    "               \n",
    "            \n",
    "                for y in range(0,28):\n",
    "                    for x in range(0,28):\n",
    "#                         if x<=0 or x>=27 or y<=0 or y>=27:\n",
    "                        if x<=1 or x>=26 or y<=1 or y>=26:\n",
    "                            row= np.append(row,0) #mnist: 흰색=0, pilow: 흰색=255, 테투리 흰색 변경\n",
    "                        else:\n",
    "                            row= np.append(row,255-mnist_img.getpixel((x,y))[0]) #mnist: 흰색=0, pilow: 흰색=255\n",
    "                \n",
    "                X_mnist=np.append(X_mnist,[row],axis= 0)\n",
    "              \n",
    "        t+=time.time()-st      \n",
    "        print(n+1,\".\",img_type,\"time = \",t)\n",
    "        print(\"===============================\")"
   ]
  },
  {
   "cell_type": "code",
   "execution_count": 4,
   "id": "7f633e6f",
   "metadata": {},
   "outputs": [
    {
     "name": "stdout",
     "output_type": "stream",
     "text": [
      "min_x : 10 min_y : 12 max_x : 356 max_y : 357\n",
      "shift_x : 1 shift_y : 1\n",
      "size = (280, 280)\n",
      "13 . jpg time =  21.021623849868774\n",
      "===============================\n",
      "min_x : 10 min_y : 13 max_x : 357 max_y : 357\n",
      "shift_x : 2 shift_y : 0\n",
      "size = (281, 280)\n",
      "14 . jpg time =  20.99381184577942\n",
      "===============================\n",
      "min_x : 11 min_y : 12 max_x : 356 max_y : 358\n",
      "shift_x : 0 shift_y : 1\n",
      "size = (280, 280)\n",
      "15 . jpg time =  20.229114294052124\n",
      "===============================\n",
      "min_x : 2 min_y : 13 max_x : 356 max_y : 376\n",
      "shift_x : 5 shift_y : 0\n",
      "size = (283, 280)\n",
      "16 . jpg time =  20.622227668762207\n",
      "===============================\n",
      "min_x : 10 min_y : 13 max_x : 355 max_y : 357\n",
      "shift_x : 1 shift_y : 0\n",
      "size = (280, 280)\n",
      "17 . jpg time =  20.344507932662964\n",
      "===============================\n",
      "min_x : 10 min_y : 12 max_x : 356 max_y : 357\n",
      "shift_x : 1 shift_y : 1\n",
      "size = (280, 280)\n",
      "18 . jpg time =  20.509912252426147\n",
      "===============================\n",
      "min_x : 11 min_y : 12 max_x : 356 max_y : 357\n",
      "shift_x : 1 shift_y : 2\n",
      "size = (280, 281)\n",
      "19 . jpg time =  20.75353455543518\n",
      "===============================\n",
      "min_x : 31 min_y : 11 max_x : 359 max_y : 337\n",
      "shift_x : 1 shift_y : 1\n",
      "size = (280, 280)\n",
      "20 . jpg time =  21.331945657730103\n",
      "===============================\n",
      "min_x : 31 min_y : 11 max_x : 359 max_y : 338\n",
      "shift_x : 1 shift_y : 4\n",
      "size = (280, 282)\n",
      "21 . jpg time =  20.72583794593811\n",
      "===============================\n",
      "min_x : 33 min_y : 11 max_x : 360 max_y : 338\n",
      "shift_x : 1 shift_y : 1\n",
      "size = (280, 280)\n",
      "22 . jpg time =  20.703630447387695\n",
      "===============================\n",
      "min_x : 27 min_y : 29 max_x : 356 max_y : 354\n",
      "shift_x : 2 shift_y : 2\n",
      "size = (281, 281)\n",
      "23 . jpg time =  20.78346300125122\n",
      "===============================\n",
      "min_x : 24 min_y : 28 max_x : 353 max_y : 352\n",
      "shift_x : 2 shift_y : 0\n",
      "size = (281, 280)\n",
      "24 . jpg time =  20.535449981689453\n",
      "===============================\n",
      "min_x : 26 min_y : 29 max_x : 354 max_y : 354\n",
      "shift_x : 2 shift_y : 1\n",
      "size = (281, 280)\n",
      "25 . jpg time =  20.784414291381836\n",
      "===============================\n",
      "min_x : 24 min_y : 28 max_x : 352 max_y : 353\n",
      "shift_x : 2 shift_y : 0\n",
      "size = (281, 280)\n",
      "26 . jpg time =  21.027801036834717\n",
      "===============================\n",
      "min_x : 27 min_y : 29 max_x : 356 max_y : 354\n",
      "shift_x : 2 shift_y : 1\n",
      "size = (281, 280)\n",
      "27 . jpg time =  23.619683265686035\n",
      "===============================\n",
      "min_x : 27 min_y : 29 max_x : 355 max_y : 354\n",
      "shift_x : 2 shift_y : 1\n",
      "size = (281, 280)\n",
      "28 . jpg time =  22.888870000839233\n",
      "===============================\n",
      "min_x : 27 min_y : 29 max_x : 355 max_y : 354\n",
      "shift_x : 1 shift_y : 1\n",
      "size = (280, 280)\n",
      "29 . jpg time =  21.064796686172485\n",
      "===============================\n",
      "min_x : 28 min_y : 30 max_x : 356 max_y : 354\n",
      "shift_x : 1 shift_y : 0\n",
      "size = (280, 280)\n",
      "30 . jpg time =  23.04732394218445\n",
      "===============================\n",
      "min_x : 18 min_y : 20 max_x : 359 max_y : 358\n",
      "shift_x : 1 shift_y : 0\n",
      "size = (280, 280)\n",
      "31 . jpg time =  22.85731053352356\n",
      "===============================\n",
      "min_x : 21 min_y : 19 max_x : 362 max_y : 358\n",
      "shift_x : 2 shift_y : 1\n",
      "size = (281, 280)\n",
      "32 . jpg time =  21.945050954818726\n",
      "===============================\n",
      "min_x : 21 min_y : 19 max_x : 362 max_y : 358\n",
      "shift_x : 1 shift_y : 1\n",
      "size = (280, 280)\n",
      "33 . jpg time =  21.593220233917236\n",
      "===============================\n",
      "min_x : 22 min_y : 19 max_x : 362 max_y : 357\n",
      "shift_x : 1 shift_y : 1\n",
      "size = (280, 280)\n",
      "34 . jpg time =  21.159372091293335\n",
      "===============================\n",
      "min_x : 24 min_y : 29 max_x : 365 max_y : 365\n",
      "shift_x : 1 shift_y : 1\n",
      "size = (280, 280)\n",
      "35 . jpg time =  22.253175735473633\n",
      "===============================\n",
      "min_x : 19 min_y : 26 max_x : 361 max_y : 363\n",
      "shift_x : 1 shift_y : 1\n",
      "size = (280, 280)\n",
      "36 . jpg time =  21.531354427337646\n",
      "===============================\n",
      "min_x : 23 min_y : 28 max_x : 365 max_y : 365\n",
      "shift_x : 1 shift_y : 1\n",
      "size = (280, 280)\n",
      "37 . jpg time =  23.248579502105713\n",
      "===============================\n",
      "min_x : 18 min_y : 26 max_x : 361 max_y : 363\n",
      "shift_x : 3 shift_y : 1\n",
      "size = (282, 280)\n",
      "38 . jpg time =  22.62552833557129\n",
      "===============================\n",
      "min_x : 19 min_y : 26 max_x : 362 max_y : 366\n",
      "shift_x : 2 shift_y : 1\n",
      "size = (281, 280)\n",
      "39 . jpg time =  22.711633443832397\n",
      "===============================\n",
      "min_x : 24 min_y : 29 max_x : 366 max_y : 365\n",
      "shift_x : 2 shift_y : 0\n",
      "size = (281, 280)\n",
      "40 . jpg time =  23.20262598991394\n",
      "===============================\n",
      "min_x : 23 min_y : 29 max_x : 365 max_y : 366\n",
      "shift_x : 1 shift_y : 1\n",
      "size = (280, 280)\n",
      "41 . jpg time =  23.043956518173218\n",
      "===============================\n",
      "min_x : 23 min_y : 29 max_x : 365 max_y : 365\n",
      "shift_x : 1 shift_y : 0\n",
      "size = (280, 280)\n",
      "42 . jpg time =  23.187952518463135\n",
      "===============================\n",
      "min_x : 23 min_y : 29 max_x : 366 max_y : 365\n",
      "shift_x : 2 shift_y : 0\n",
      "size = (281, 280)\n",
      "43 . jpg time =  21.58427405357361\n",
      "===============================\n",
      "min_x : 23 min_y : 29 max_x : 366 max_y : 366\n",
      "shift_x : 5 shift_y : 2\n",
      "size = (283, 281)\n",
      "44 . jpg time =  24.227901935577393\n",
      "===============================\n",
      "min_x : 24 min_y : 30 max_x : 366 max_y : 366\n",
      "shift_x : 2 shift_y : 0\n",
      "size = (281, 280)\n",
      "45 . jpg time =  23.66144585609436\n",
      "===============================\n",
      "min_x : 9 min_y : 27 max_x : 361 max_y : 363\n",
      "shift_x : 0 shift_y : 0\n",
      "size = (280, 280)\n",
      "46 . jpg time =  24.552390336990356\n",
      "===============================\n",
      "min_x : 19 min_y : 27 max_x : 361 max_y : 363\n",
      "shift_x : 1 shift_y : 0\n",
      "size = (280, 280)\n",
      "47 . jpg time =  23.520092010498047\n",
      "===============================\n",
      "min_x : 18 min_y : 27 max_x : 361 max_y : 364\n",
      "shift_x : 1 shift_y : 1\n",
      "size = (280, 280)\n",
      "48 . jpg time =  22.84182095527649\n",
      "===============================\n",
      "min_x : 19 min_y : 20 max_x : 360 max_y : 359\n",
      "size = (280, 280)\n",
      "1 . jpg time =  22.9670889377594\n",
      "===============================\n",
      "min_x : 19 min_y : 20 max_x : 360 max_y : 359\n",
      "size = (280, 280)\n",
      "2 . jpg time =  25.008864164352417\n",
      "===============================\n",
      "min_x : 19 min_y : 20 max_x : 360 max_y : 359\n",
      "size = (280, 280)\n",
      "3 . jpg time =  24.474207639694214\n",
      "===============================\n",
      "min_x : 19 min_y : 20 max_x : 360 max_y : 359\n",
      "size = (280, 280)\n",
      "4 . jpg time =  22.147040843963623\n",
      "===============================\n",
      "min_x : 19 min_y : 20 max_x : 360 max_y : 359\n",
      "size = (280, 280)\n",
      "5 . jpg time =  21.718858242034912\n",
      "===============================\n",
      "min_x : 19 min_y : 20 max_x : 360 max_y : 359\n",
      "size = (280, 280)\n",
      "6 . jpg time =  21.253934860229492\n",
      "===============================\n",
      "min_x : 19 min_y : 20 max_x : 360 max_y : 359\n",
      "size = (280, 280)\n",
      "7 . jpg time =  21.570342540740967\n",
      "===============================\n",
      "min_x : 19 min_y : 20 max_x : 360 max_y : 359\n",
      "size = (280, 280)\n",
      "8 . jpg time =  21.84358811378479\n",
      "===============================\n",
      "min_x : 19 min_y : 20 max_x : 360 max_y : 359\n",
      "size = (280, 280)\n",
      "9 . jpg time =  24.187515020370483\n",
      "===============================\n",
      "min_x : 19 min_y : 20 max_x : 360 max_y : 359\n",
      "size = (280, 280)\n",
      "10 . jpg time =  22.651419639587402\n",
      "===============================\n",
      "min_x : 19 min_y : 20 max_x : 360 max_y : 359\n",
      "size = (280, 280)\n",
      "11 . jpg time =  23.04970693588257\n",
      "===============================\n",
      "min_x : 19 min_y : 20 max_x : 360 max_y : 359\n",
      "size = (280, 280)\n",
      "12 . jpg time =  23.67063856124878\n",
      "===============================\n",
      "min_x : 19 min_y : 20 max_x : 360 max_y : 359\n",
      "size = (280, 280)\n",
      "49 . jpg time =  22.283404111862183\n",
      "===============================\n",
      "min_x : 19 min_y : 20 max_x : 360 max_y : 359\n",
      "size = (280, 280)\n",
      "50 . jpg time =  22.106428384780884\n",
      "===============================\n",
      "min_x : 19 min_y : 20 max_x : 360 max_y : 359\n",
      "size = (280, 280)\n",
      "51 . jpg time =  23.70585799217224\n",
      "===============================\n",
      "min_x : 19 min_y : 20 max_x : 360 max_y : 359\n",
      "size = (280, 280)\n",
      "52 . jpg time =  32.334524154663086\n",
      "===============================\n",
      "min_x : 19 min_y : 20 max_x : 360 max_y : 359\n",
      "size = (280, 280)\n",
      "53 . jpg time =  30.42368221282959\n",
      "===============================\n",
      "min_x : 19 min_y : 20 max_x : 360 max_y : 359\n",
      "size = (280, 280)\n",
      "54 . jpg time =  29.640711307525635\n",
      "===============================\n",
      "min_x : 19 min_y : 20 max_x : 360 max_y : 359\n",
      "size = (280, 280)\n",
      "55 . jpg time =  27.084853410720825\n",
      "===============================\n",
      "min_x : 19 min_y : 20 max_x : 360 max_y : 359\n",
      "size = (280, 280)\n",
      "56 . jpg time =  26.082302808761597\n",
      "===============================\n"
     ]
    },
    {
     "name": "stdout",
     "output_type": "stream",
     "text": [
      "min_x : 19 min_y : 20 max_x : 360 max_y : 359\n",
      "size = (280, 280)\n",
      "57 . jpg time =  24.401864051818848\n",
      "===============================\n",
      "min_x : 19 min_y : 20 max_x : 360 max_y : 359\n",
      "size = (280, 280)\n",
      "58 . jpg time =  26.436481475830078\n",
      "===============================\n",
      "min_x : 19 min_y : 20 max_x : 360 max_y : 359\n",
      "size = (280, 280)\n",
      "59 . jpg time =  27.26213836669922\n",
      "===============================\n",
      "min_x : 19 min_y : 20 max_x : 360 max_y : 359\n",
      "size = (280, 280)\n",
      "60 . jpg time =  23.036458492279053\n",
      "===============================\n",
      "min_x : 19 min_y : 20 max_x : 360 max_y : 359\n",
      "size = (280, 280)\n",
      "61 . jpg time =  24.06280541419983\n",
      "===============================\n",
      "min_x : 19 min_y : 20 max_x : 360 max_y : 359\n",
      "size = (280, 280)\n",
      "62 . jpg time =  24.759117364883423\n",
      "===============================\n",
      "min_x : 19 min_y : 20 max_x : 360 max_y : 359\n",
      "size = (280, 280)\n",
      "63 . jpg time =  22.976030111312866\n",
      "===============================\n",
      "min_x : 19 min_y : 20 max_x : 360 max_y : 359\n",
      "size = (280, 280)\n",
      "64 . jpg time =  23.405604362487793\n",
      "===============================\n",
      "min_x : 19 min_y : 20 max_x : 360 max_y : 359\n",
      "size = (280, 280)\n",
      "65 . jpg time =  21.66071653366089\n",
      "===============================\n",
      "min_x : 19 min_y : 20 max_x : 360 max_y : 359\n",
      "size = (280, 280)\n",
      "66 . jpg time =  22.48885226249695\n",
      "===============================\n",
      "min_x : 19 min_y : 20 max_x : 360 max_y : 359\n",
      "size = (280, 280)\n",
      "67 . jpg time =  22.312220335006714\n",
      "===============================\n",
      "min_x : 19 min_y : 20 max_x : 360 max_y : 359\n",
      "size = (280, 280)\n",
      "68 . jpg time =  22.530741930007935\n",
      "===============================\n",
      "min_x : 19 min_y : 20 max_x : 360 max_y : 359\n",
      "size = (280, 280)\n",
      "69 . jpg time =  21.96529245376587\n",
      "===============================\n",
      "min_x : 19 min_y : 20 max_x : 360 max_y : 359\n",
      "size = (280, 280)\n",
      "70 . jpg time =  22.436986207962036\n",
      "===============================\n",
      "min_x : 19 min_y : 20 max_x : 360 max_y : 359\n",
      "size = (280, 280)\n",
      "71 . jpg time =  22.22954821586609\n",
      "===============================\n",
      "min_x : 19 min_y : 20 max_x : 360 max_y : 359\n",
      "size = (280, 280)\n",
      "72 . jpg time =  22.01412534713745\n",
      "===============================\n",
      "min_x : 19 min_y : 20 max_x : 360 max_y : 359\n",
      "size = (280, 280)\n",
      "73 . jpg time =  22.583600759506226\n",
      "===============================\n",
      "min_x : 19 min_y : 20 max_x : 360 max_y : 359\n",
      "size = (280, 280)\n",
      "74 . jpg time =  23.21206831932068\n",
      "===============================\n",
      "min_x : 19 min_y : 20 max_x : 360 max_y : 359\n",
      "size = (280, 280)\n",
      "75 . jpg time =  24.666030645370483\n",
      "===============================\n",
      "min_x : 19 min_y : 20 max_x : 360 max_y : 359\n",
      "size = (280, 280)\n",
      "76 . jpg time =  23.342615842819214\n",
      "===============================\n",
      "min_x : 19 min_y : 20 max_x : 360 max_y : 359\n",
      "size = (280, 280)\n",
      "77 . jpg time =  23.75240707397461\n",
      "===============================\n",
      "min_x : 19 min_y : 20 max_x : 360 max_y : 359\n",
      "size = (280, 280)\n",
      "78 . jpg time =  23.285709142684937\n",
      "===============================\n",
      "min_x : 19 min_y : 20 max_x : 360 max_y : 359\n",
      "size = (280, 280)\n",
      "79 . jpg time =  24.172491550445557\n",
      "===============================\n",
      "min_x : 19 min_y : 20 max_x : 360 max_y : 359\n",
      "size = (280, 280)\n",
      "80 . jpg time =  23.53804636001587\n",
      "===============================\n",
      "min_x : 19 min_y : 20 max_x : 360 max_y : 359\n",
      "size = (280, 280)\n",
      "81 . jpg time =  23.37043571472168\n",
      "===============================\n",
      "min_x : 19 min_y : 20 max_x : 360 max_y : 359\n",
      "size = (280, 280)\n",
      "82 . jpg time =  22.82084560394287\n",
      "===============================\n",
      "min_x : 19 min_y : 20 max_x : 360 max_y : 359\n",
      "size = (280, 280)\n",
      "83 . jpg time =  22.640448570251465\n",
      "===============================\n",
      "min_x : 19 min_y : 20 max_x : 360 max_y : 359\n",
      "size = (280, 280)\n",
      "84 . jpg time =  22.470906257629395\n",
      "===============================\n",
      "min_x : 19 min_y : 20 max_x : 360 max_y : 359\n",
      "size = (280, 280)\n",
      "85 . jpg time =  23.047356605529785\n",
      "===============================\n",
      "min_x : 19 min_y : 20 max_x : 360 max_y : 359\n",
      "size = (280, 280)\n",
      "86 . jpg time =  23.658725261688232\n",
      "===============================\n",
      "min_x : 19 min_y : 20 max_x : 360 max_y : 359\n",
      "size = (280, 280)\n",
      "87 . jpg time =  23.057334423065186\n",
      "===============================\n",
      "min_x : 19 min_y : 20 max_x : 373 max_y : 359\n",
      "size = (280, 280)\n",
      "88 . jpg time =  23.020434617996216\n",
      "===============================\n",
      "min_x : 19 min_y : 20 max_x : 360 max_y : 360\n",
      "size = (280, 280)\n",
      "89 . jpg time =  23.22093391418457\n",
      "===============================\n",
      "min_x : 19 min_y : 20 max_x : 360 max_y : 359\n",
      "size = (280, 280)\n",
      "90 . jpg time =  25.51236081123352\n",
      "===============================\n",
      "min_x : 19 min_y : 20 max_x : 360 max_y : 359\n",
      "size = (280, 280)\n",
      "91 . jpg time =  24.18778681755066\n",
      "===============================\n",
      "min_x : 19 min_y : 20 max_x : 360 max_y : 359\n",
      "size = (280, 280)\n",
      "1 . png time =  23.42032480239868\n",
      "===============================\n",
      "min_x : 30 min_y : 45 max_x : 564 max_y : 795\n",
      "size = (280, 280)\n",
      "2 . png time =  26.58978033065796\n",
      "===============================\n",
      "min_x : 19 min_y : 20 max_x : 360 max_y : 359\n",
      "size = (280, 280)\n",
      "3 . png time =  23.28896999359131\n",
      "===============================\n",
      "min_x : 19 min_y : 20 max_x : 360 max_y : 359\n",
      "size = (280, 280)\n",
      "4 . png time =  24.114168882369995\n",
      "===============================\n",
      "min_x : 19 min_y : 20 max_x : 360 max_y : 359\n",
      "size = (280, 280)\n",
      "5 . png time =  25.625242471694946\n",
      "===============================\n",
      "min_x : 13 min_y : 20 max_x : 255 max_y : 359\n",
      "size = (280, 280)\n",
      "6 . png time =  23.95293927192688\n",
      "===============================\n",
      "min_x : 19 min_y : 20 max_x : 360 max_y : 359\n",
      "size = (280, 280)\n",
      "7 . png time =  24.351871967315674\n",
      "===============================\n",
      "min_x : 19 min_y : 20 max_x : 360 max_y : 359\n",
      "size = (280, 280)\n",
      "8 . png time =  25.070833921432495\n",
      "===============================\n",
      "min_x : 19 min_y : 20 max_x : 360 max_y : 359\n",
      "size = (280, 280)\n",
      "9 . png time =  24.22337508201599\n",
      "===============================\n",
      "min_x : 19 min_y : 20 max_x : 360 max_y : 359\n",
      "size = (280, 280)\n",
      "10 . png time =  24.12500810623169\n",
      "===============================\n",
      "min_x : 19 min_y : 20 max_x : 360 max_y : 359\n",
      "size = (280, 280)\n",
      "11 . png time =  24.135302782058716\n",
      "===============================\n",
      "min_x : 19 min_y : 20 max_x : 360 max_y : 359\n",
      "size = (280, 280)\n",
      "12 . png time =  25.675376653671265\n",
      "===============================\n",
      "min_x : 8 min_y : 5 max_x : 369 max_y : 373\n",
      "size = (280, 280)\n",
      "13 . png time =  28.40287494659424\n",
      "===============================\n",
      "min_x : 9 min_y : 6 max_x : 368 max_y : 373\n",
      "size = (280, 280)\n",
      "14 . png time =  26.175033569335938\n",
      "===============================\n",
      "min_x : 9 min_y : 6 max_x : 367 max_y : 372\n",
      "size = (280, 280)\n",
      "15 . png time =  28.892738580703735\n",
      "===============================\n",
      "min_x : 9 min_y : 6 max_x : 368 max_y : 372\n",
      "size = (280, 280)\n",
      "16 . png time =  26.196967124938965\n",
      "===============================\n",
      "min_x : 8 min_y : 6 max_x : 368 max_y : 372\n",
      "size = (280, 280)\n",
      "17 . png time =  27.190839529037476\n",
      "===============================\n",
      "min_x : 10 min_y : 6 max_x : 367 max_y : 372\n",
      "size = (280, 280)\n",
      "18 . png time =  26.256747722625732\n",
      "===============================\n",
      "min_x : 10 min_y : 6 max_x : 366 max_y : 373\n",
      "size = (280, 280)\n",
      "19 . png time =  30.684481382369995\n",
      "===============================\n",
      "min_x : 11 min_y : 6 max_x : 367 max_y : 373\n",
      "size = (280, 280)\n",
      "20 . png time =  28.93736958503723\n",
      "===============================\n",
      "min_x : 10 min_y : 6 max_x : 367 max_y : 373\n",
      "size = (280, 280)\n",
      "21 . png time =  27.68740200996399\n",
      "===============================\n",
      "min_x : 10 min_y : 6 max_x : 367 max_y : 373\n",
      "size = (280, 280)\n",
      "22 . png time =  26.429877281188965\n",
      "===============================\n"
     ]
    }
   ],
   "source": [
    "X_mnist=mnist[\"data\"].to_numpy()\n",
    "img_to_mnist(13,48,\"jpg\",True) #손글씨 가장 먼저 업로드 #36개 70000~73600\n",
    "img_to_mnist(1,12,\"jpg\",False) #12개 73600~74800\n",
    "img_to_mnist(49,91,\"jpg\",False)#43개 74800~79100\n",
    "img_to_mnist(1,22,\"png\",False)#22개 79100~81300"
   ]
  },
  {
   "cell_type": "code",
   "execution_count": 5,
   "id": "6a92f26d",
   "metadata": {},
   "outputs": [
    {
     "data": {
      "text/plain": [
       "81300"
      ]
     },
     "execution_count": 5,
     "metadata": {},
     "output_type": "execute_result"
    }
   ],
   "source": [
    "len(X_mnist)"
   ]
  },
  {
   "cell_type": "code",
   "execution_count": 6,
   "id": "180e38bc",
   "metadata": {},
   "outputs": [
    {
     "name": "stdout",
     "output_type": "stream",
     "text": [
      "81300\n",
      "[0 1 2 ... 7 8 9]\n"
     ]
    }
   ],
   "source": [
    "num=0\n",
    "y_mnist=mnist[\"target\"].to_numpy()\n",
    "for i in range (70000,len(X_mnist)):\n",
    "    y_mnist=np.append(y_mnist,num%10)\n",
    "    num=(num+1)%10\n",
    "    #print(i,y_mnist[i])\n",
    "print(len(y_mnist))\n",
    "print(y_mnist[70000:])"
   ]
  },
  {
   "cell_type": "markdown",
   "id": "d045d284",
   "metadata": {},
   "source": [
    "# Discover and visualize the data"
   ]
  },
  {
   "cell_type": "code",
   "execution_count": 7,
   "id": "23c052ba",
   "metadata": {},
   "outputs": [
    {
     "name": "stdout",
     "output_type": "stream",
     "text": [
      "Saving figure some_digit_plot\n"
     ]
    },
    {
     "data": {
      "image/png": "[encoded data removed]",
      "text/plain": [
       "<Figure size 432x288 with 1 Axes>"
      ]
     },
     "metadata": {
      "needs_background": "light"
     },
     "output_type": "display_data"
    }
   ],
   "source": [
    "%matplotlib inline\n",
    "#그림을 그리기 위해 import\n",
    "import matplotlib as mpl\n",
    "import matplotlib.pyplot as plt\n",
    "\n",
    "some_digit = X_mnist[71000]\n",
    "#some_digit_image: 5그림\n",
    "some_digit_image = some_digit.reshape(28, 28)#28x28배열로 바꿔줌(numpy.reshape(행, 열))\n",
    "plt.imshow(some_digit_image, cmap=mpl.cm.binary)#imshow-이미지로 출력\n",
    "plt.axis(\"off\")\n",
    "\n",
    "save_fig(\"some_digit_plot\")\n",
    "plt.show()"
   ]
  },
  {
   "cell_type": "code",
   "execution_count": 8,
   "id": "dfd745ee",
   "metadata": {},
   "outputs": [],
   "source": [
    "def plot_digits(instances, images_per_row=10, **options):\n",
    "    size = 28\n",
    "    images_per_row = min(len(instances), images_per_row)\n",
    "    images = [instance.reshape(size,size) for instance in instances]\n",
    "    n_rows = (len(instances) - 1) // images_per_row + 1\n",
    "    row_images = []\n",
    "    n_empty = n_rows * images_per_row - len(instances)\n",
    "    images.append(np.zeros((size, size * n_empty)))\n",
    "    for row in range(n_rows):\n",
    "        rimages = images[row * images_per_row : (row + 1) * images_per_row]\n",
    "        row_images.append(np.concatenate(rimages, axis=1))\n",
    "    image = np.concatenate(row_images, axis=0)\n",
    "    plt.imshow(image, cmap = mpl.cm.binary, **options)\n",
    "    plt.axis(\"off\")"
   ]
  },
  {
   "cell_type": "code",
   "execution_count": 9,
   "id": "1c0be0f3",
   "metadata": {},
   "outputs": [
    {
     "name": "stdout",
     "output_type": "stream",
     "text": [
      "Saving figure more_digits_plot\n"
     ]
    },
    {
     "data": {
      "image/png": "[encoded data removed]",
      "text/plain": [
       "<Figure size 648x648 with 1 Axes>"
      ]
     },
     "metadata": {
      "needs_background": "light"
     },
     "output_type": "display_data"
    }
   ],
   "source": [
    "%matplotlib inline\n",
    "import matplotlib as mpl\n",
    "import matplotlib.pyplot as plt\n",
    "\n",
    "plt.figure(figsize=(9,9))\n",
    "example_images = X_mnist[76900:77000]\n",
    "plot_digits(example_images, images_per_row=10)\n",
    "save_fig(\"more_digits_plot\")\n",
    "plt.show()"
   ]
  },
  {
   "cell_type": "code",
   "execution_count": 10,
   "id": "aef3e272",
   "metadata": {},
   "outputs": [],
   "source": [
    "def plot_digit(data):\n",
    "    image = data.reshape(28, 28)\n",
    "    plt.imshow(image, cmap = mpl.cm.binary, interpolation=\"nearest\")\n",
    "    plt.axis(\"off\")"
   ]
  },
  {
   "cell_type": "code",
   "execution_count": 11,
   "id": "a265d8b4",
   "metadata": {},
   "outputs": [
    {
     "data": {
      "image/png": "[encoded data removed]",
      "text/plain": [
       "<Figure size 72x72 with 1 Axes>"
      ]
     },
     "metadata": {
      "needs_background": "light"
     },
     "output_type": "display_data"
    }
   ],
   "source": [
    "plt.figure(figsize=(1,1))\n",
    "plot_digit(X_mnist[76990])"
   ]
  },
  {
   "cell_type": "code",
   "execution_count": 10,
   "id": "989cdc4b",
   "metadata": {},
   "outputs": [],
   "source": [
    "X_test1, y_test1 = X_mnist[73600:74410], y_mnist[73600:74410] #패드손글씨\n",
    "X_test2, y_test2 = X_mnist[:7290], y_mnist[:7290] #기존mnist\n",
    "\n",
    "X_test = np.concatenate((X_test1, X_test2), axis=0)\n",
    "y_test = np.concatenate((y_test1, y_test2), axis=0)\n",
    "\n",
    "X_val1, y_val1 = X_mnist[74410:75220], y_mnist[74410:75220] #패드손글씨\n",
    "X_val2, y_val2 = X_mnist[7290:14580], y_mnist[7290:14580] #기존mnist\n",
    "\n",
    "X_val = np.concatenate((X_val1, X_val2), axis=0)\n",
    "y_val = np.concatenate((y_val1, y_val2), axis=0)\n",
    "\n",
    "X_train1, y_train1 = X_mnist[14580:73600], y_mnist[14580:73600]\n",
    "X_train2, y_train2 = X_mnist[75220:81300], y_mnist[75220:81300]\n",
    "\n",
    "X_train = np.concatenate((X_train1, X_train2), axis=0)\n",
    "y_train = np.concatenate((y_train1, y_train2), axis=0)"
   ]
  },
  {
   "cell_type": "code",
   "execution_count": 11,
   "id": "275370a1",
   "metadata": {},
   "outputs": [],
   "source": [
    "from sklearn.preprocessing import StandardScaler\n",
    "scaler = StandardScaler()\n",
    "X_train_scaled = scaler.fit_transform(X_train.astype(np.float64))\n",
    "X_test_scaled = scaler.fit_transform(X_test.astype(np.float64))\n",
    "X_val_scaled = scaler.fit_transform(X_val.astype(np.float64))"
   ]
  },
  {
   "cell_type": "markdown",
   "id": "dbf485f2",
   "metadata": {},
   "source": [
    "# Select and train a model"
   ]
  },
  {
   "cell_type": "code",
   "execution_count": 12,
   "id": "095e3914",
   "metadata": {},
   "outputs": [],
   "source": [
    "from sklearn.ensemble import RandomForestClassifier, ExtraTreesClassifier\n",
    "from sklearn.svm import LinearSVC\n",
    "from sklearn.neural_network import MLPClassifier\n",
    "from sklearn.ensemble import VotingClassifier\n",
    "from sklearn.linear_model import LogisticRegression\n",
    "from sklearn.svm import SVC\n",
    "from sklearn.tree import DecisionTreeClassifier\n",
    "from sklearn.ensemble import BaggingClassifier\n",
    "from sklearn.neighbors import KNeighborsClassifier"
   ]
  },
  {
   "cell_type": "markdown",
   "id": "e23284bc",
   "metadata": {},
   "source": [
    "각 classifier의 스코어와 훈련시간을 내봄"
   ]
  },
  {
   "cell_type": "code",
   "execution_count": 15,
   "id": "b61c677b",
   "metadata": {},
   "outputs": [],
   "source": [
    "extra_trees_clf = ExtraTreesClassifier(n_estimators=100, random_state=42)\n",
    "lisvm_clf = LinearSVC(random_state=42)\n",
    "log_clf = LogisticRegression(solver=\"lbfgs\", random_state=42)\n",
    "mlp_clf = MLPClassifier(random_state=42)\n",
    "rnd_clf = RandomForestClassifier(n_estimators=100, random_state=42)\n",
    "knn_clf = KNeighborsClassifier(leaf_size = 10)\n",
    "svm_clf = SVC(gamma=\"scale\",probability=True, random_state=42)\n",
    "dt_clf = DecisionTreeClassifier(max_depth=2, random_state=42)\n",
    "bag_clf = BaggingClassifier(\n",
    "    DecisionTreeClassifier(random_state=42), n_estimators=500,\n",
    "    max_samples=0.9, bootstrap=True, oob_score = True, random_state=42)"
   ]
  },
  {
   "cell_type": "code",
   "execution_count": 16,
   "id": "bde74b22",
   "metadata": {},
   "outputs": [
    {
     "name": "stdout",
     "output_type": "stream",
     "text": [
      "40.90598750114441 seconds for extratree fitting\n"
     ]
    }
   ],
   "source": [
    "import time\n",
    "\n",
    "st = time.time()\n",
    "extra_trees_clf.fit(X_train_scaled, y_train)\n",
    "ed = time.time()\n",
    "print(ed - st, \"seconds for extratree fitting\")"
   ]
  },
  {
   "cell_type": "code",
   "execution_count": 17,
   "id": "71fe8ea9",
   "metadata": {},
   "outputs": [
    {
     "name": "stdout",
     "output_type": "stream",
     "text": [
      "666.1286246776581 seconds for livsm fitting\n"
     ]
    },
    {
     "name": "stderr",
     "output_type": "stream",
     "text": [
      "C:\\ProgramData\\Anaconda3\\lib\\site-packages\\sklearn\\svm\\_base.py:985: ConvergenceWarning: Liblinear failed to converge, increase the number of iterations.\n",
      "  warnings.warn(\"Liblinear failed to converge, increase \"\n"
     ]
    }
   ],
   "source": [
    "st = time.time()\n",
    "lisvm_clf.fit(X_train_scaled, y_train)\n",
    "ed = time.time()\n",
    "print(ed - st, \"seconds for livsm fitting\")"
   ]
  },
  {
   "cell_type": "code",
   "execution_count": 18,
   "id": "8d0cd476",
   "metadata": {},
   "outputs": [
    {
     "name": "stdout",
     "output_type": "stream",
     "text": [
      "9.586742401123047 seconds for log fitting\n"
     ]
    },
    {
     "name": "stderr",
     "output_type": "stream",
     "text": [
      "C:\\ProgramData\\Anaconda3\\lib\\site-packages\\sklearn\\linear_model\\_logistic.py:763: ConvergenceWarning: lbfgs failed to converge (status=1):\n",
      "STOP: TOTAL NO. of ITERATIONS REACHED LIMIT.\n",
      "\n",
      "Increase the number of iterations (max_iter) or scale the data as shown in:\n",
      "    https://scikit-learn.org/stable/modules/preprocessing.html\n",
      "Please also refer to the documentation for alternative solver options:\n",
      "    https://scikit-learn.org/stable/modules/linear_model.html#logistic-regression\n",
      "  n_iter_i = _check_optimize_result(\n"
     ]
    }
   ],
   "source": [
    "st = time.time()\n",
    "log_clf.fit(X_train_scaled, y_train)\n",
    "ed = time.time()\n",
    "print(ed - st, \"seconds for log fitting\")"
   ]
  },
  {
   "cell_type": "code",
   "execution_count": 19,
   "id": "ec87f863",
   "metadata": {},
   "outputs": [
    {
     "name": "stdout",
     "output_type": "stream",
     "text": [
      "266.3584234714508 seconds for mlp fitting\n"
     ]
    }
   ],
   "source": [
    "st = time.time()\n",
    "mlp_clf.fit(X_train_scaled, y_train)\n",
    "ed = time.time()\n",
    "print(ed - st, \"seconds for mlp fitting\")"
   ]
  },
  {
   "cell_type": "code",
   "execution_count": 20,
   "id": "023e6283",
   "metadata": {},
   "outputs": [
    {
     "name": "stdout",
     "output_type": "stream",
     "text": [
      "40.75817370414734 seconds for rnd fitting\n"
     ]
    }
   ],
   "source": [
    "st = time.time()\n",
    "rnd_clf.fit(X_train_scaled, y_train)\n",
    "ed = time.time()\n",
    "print(ed - st, \"seconds for rnd fitting\")"
   ]
  },
  {
   "cell_type": "code",
   "execution_count": 21,
   "id": "40e0b7c8",
   "metadata": {},
   "outputs": [
    {
     "name": "stdout",
     "output_type": "stream",
     "text": [
      "0.05385851860046387 seconds for knn fitting\n"
     ]
    }
   ],
   "source": [
    "st = time.time()\n",
    "knn_clf.fit(X_train_scaled, y_train)\n",
    "ed = time.time()\n",
    "print(ed - st, \"seconds for knn fitting\")"
   ]
  },
  {
   "cell_type": "code",
   "execution_count": 22,
   "id": "84d50a1d",
   "metadata": {},
   "outputs": [
    {
     "name": "stdout",
     "output_type": "stream",
     "text": [
      "4418.882298946381 seconds for svm fitting\n"
     ]
    }
   ],
   "source": [
    "st = time.time()\n",
    "svm_clf.fit(X_train_scaled, y_train)\n",
    "ed = time.time()\n",
    "print(ed - st, \"seconds for svm fitting\")"
   ]
  },
  {
   "cell_type": "code",
   "execution_count": 23,
   "id": "4450bc87",
   "metadata": {},
   "outputs": [
    {
     "name": "stdout",
     "output_type": "stream",
     "text": [
      "1.4599006175994873 seconds for DicisionTree fitting\n"
     ]
    }
   ],
   "source": [
    "st = time.time()\n",
    "dt_clf.fit(X_train_scaled, y_train)\n",
    "ed = time.time()\n",
    "print(ed - st, \"seconds for DicisionTree fitting\")"
   ]
  },
  {
   "cell_type": "code",
   "execution_count": 24,
   "id": "c265a832",
   "metadata": {},
   "outputs": [
    {
     "name": "stdout",
     "output_type": "stream",
     "text": [
      "5122.202353954315 seconds for Bagging fitting\n"
     ]
    }
   ],
   "source": [
    "st = time.time()\n",
    "bag_clf.fit(X_train_scaled, y_train)\n",
    "ed = time.time()\n",
    "print(ed - st, \"seconds for Bagging fitting\")"
   ]
  },
  {
   "cell_type": "markdown",
   "id": "57540ed2",
   "metadata": {},
   "source": [
    "scoring"
   ]
  },
  {
   "cell_type": "code",
   "execution_count": 25,
   "id": "dff41830",
   "metadata": {},
   "outputs": [
    {
     "name": "stdout",
     "output_type": "stream",
     "text": [
      "0.9417283950617283 , ExtraTree\n",
      "0.7625138759613037 seconds for ExtraTree score\n"
     ]
    }
   ],
   "source": [
    "st = time.time()\n",
    "print(extra_trees_clf.score(X_val_scaled, y_val), \", ExtraTree\")\n",
    "ed = time. time()\n",
    "print(ed - st, \"seconds for ExtraTree score\")"
   ]
  },
  {
   "cell_type": "code",
   "execution_count": 26,
   "id": "4d6cb4fc",
   "metadata": {},
   "outputs": [
    {
     "name": "stdout",
     "output_type": "stream",
     "text": [
      "0.8311111111111111 , livsm\n",
      "0.013962507247924805 seconds for lisvm score\n"
     ]
    }
   ],
   "source": [
    "st = time.time()\n",
    "print(lisvm_clf.score(X_val_scaled, y_val),\", livsm\")\n",
    "ed = time. time()\n",
    "print(ed - st, \"seconds for lisvm score\")"
   ]
  },
  {
   "cell_type": "code",
   "execution_count": 27,
   "id": "5b2ef488",
   "metadata": {},
   "outputs": [
    {
     "name": "stdout",
     "output_type": "stream",
     "text": [
      "0.84 , Logistic\n",
      "0.013962507247924805 seconds for Logistic score\n"
     ]
    }
   ],
   "source": [
    "st = time.time()\n",
    "print(log_clf.score(X_val_scaled, y_val), \", Logistic\")\n",
    "ed = time. time()\n",
    "print(ed - st, \"seconds for Logistic score\")"
   ]
  },
  {
   "cell_type": "code",
   "execution_count": 28,
   "id": "e372b6a6",
   "metadata": {},
   "outputs": [
    {
     "name": "stdout",
     "output_type": "stream",
     "text": [
      "0.9234567901234568 , mlp\n",
      "0.03690147399902344 seconds for mlp score\n"
     ]
    }
   ],
   "source": [
    "st = time.time()\n",
    "print(mlp_clf.score(X_val_scaled, y_val), \", mlp\")\n",
    "ed = time. time()\n",
    "print(ed - st, \"seconds for mlp score\")"
   ]
  },
  {
   "cell_type": "code",
   "execution_count": 29,
   "id": "21b91da6",
   "metadata": {},
   "outputs": [
    {
     "name": "stdout",
     "output_type": "stream",
     "text": [
      "0.9330864197530864 , RandomForest\n",
      "0.5016920566558838 seconds for RandomForest score\n"
     ]
    }
   ],
   "source": [
    "st = time.time()\n",
    "print(rnd_clf.score(X_val_scaled, y_val), \", RandomForest\")\n",
    "ed = time. time()\n",
    "print(ed - st, \"seconds for RandomForest score\")"
   ]
  },
  {
   "cell_type": "code",
   "execution_count": 30,
   "id": "9835d6ec",
   "metadata": {},
   "outputs": [
    {
     "name": "stdout",
     "output_type": "stream",
     "text": [
      "0.891358024691358 , KNN\n",
      "11.173255443572998 seconds for KNN score\n"
     ]
    }
   ],
   "source": [
    "st = time.time()\n",
    "print(knn_clf.score(X_val_scaled, y_val), \", KNN\")\n",
    "ed = time. time()\n",
    "print(ed - st, \"seconds for KNN score\")"
   ]
  },
  {
   "cell_type": "code",
   "execution_count": 31,
   "id": "4bc12387",
   "metadata": {},
   "outputs": [
    {
     "name": "stdout",
     "output_type": "stream",
     "text": [
      "0.9125925925925926 , svm\n",
      "106.227121591568 seconds for svm score\n"
     ]
    }
   ],
   "source": [
    "st = time.time()\n",
    "print(svm_clf.score(X_val_scaled, y_val), \", svm\")\n",
    "ed = time. time()\n",
    "print(ed - st, \"seconds for svm score\")"
   ]
  },
  {
   "cell_type": "code",
   "execution_count": 32,
   "id": "a802d928",
   "metadata": {},
   "outputs": [
    {
     "name": "stdout",
     "output_type": "stream",
     "text": [
      "0.31839506172839505 , DicisionTree\n",
      "0.017952919006347656 seconds for DicisionTree score\n"
     ]
    }
   ],
   "source": [
    "st = time.time()\n",
    "print(dt_clf.score(X_val_scaled, y_val), \", DicisionTree\")\n",
    "ed = time. time()\n",
    "print(ed - st, \"seconds for DicisionTree score\")"
   ]
  },
  {
   "cell_type": "code",
   "execution_count": 33,
   "id": "93691e5d",
   "metadata": {},
   "outputs": [
    {
     "name": "stdout",
     "output_type": "stream",
     "text": [
      "0.8996296296296297 , Bagging\n",
      "15.555219888687134 seconds for Bagging score\n"
     ]
    }
   ],
   "source": [
    "st = time.time()\n",
    "print(bag_clf.score(X_val_scaled, y_val), \", Bagging\")\n",
    "ed = time. time()\n",
    "print(ed - st, \"seconds for Bagging score\")"
   ]
  },
  {
   "cell_type": "markdown",
   "id": "22cd7692",
   "metadata": {},
   "source": [
    "DicisionTree, Bagging, knn, SVC, 시간과 스코어가 좋지 않아서 제외하고 voting을 해봄"
   ]
  },
  {
   "cell_type": "code",
   "execution_count": 34,
   "id": "e057ef9c",
   "metadata": {},
   "outputs": [],
   "source": [
    "voting_clf1 = VotingClassifier(estimators=[('mlp', mlp_clf),\n",
    "                                ('rnd', rnd_clf),('bag', bag_clf),('svm', svm_clf)], voting='hard')"
   ]
  },
  {
   "cell_type": "code",
   "execution_count": 35,
   "id": "4ced83c1",
   "metadata": {},
   "outputs": [
    {
     "name": "stdout",
     "output_type": "stream",
     "text": [
      "9532.774625062943 seconds for Voting hard fitting\n"
     ]
    }
   ],
   "source": [
    "st = time.time()\n",
    "voting_clf1.fit(X_train_scaled, y_train)\n",
    "ed = time.time()\n",
    "print(ed - st, \"seconds for Voting hard fitting\")"
   ]
  },
  {
   "cell_type": "code",
   "execution_count": 36,
   "id": "f4e38218",
   "metadata": {},
   "outputs": [
    {
     "name": "stdout",
     "output_type": "stream",
     "text": [
      "0.9371604938271605 , Voting hard\n",
      "122.82826495170593 seconds for voting hard score\n"
     ]
    }
   ],
   "source": [
    "st = time.time()\n",
    "print(voting_clf1.score(X_val_scaled, y_val), \", Voting hard\")\n",
    "ed = time. time()\n",
    "print(ed - st, \"seconds for voting hard score\")"
   ]
  },
  {
   "cell_type": "code",
   "execution_count": 37,
   "id": "c34cbe24",
   "metadata": {},
   "outputs": [],
   "source": [
    "voting_clf2 = VotingClassifier(estimators=[('mlp', mlp_clf),\n",
    "                                ('rnd', rnd_clf),('bag', bag_clf),('svm', svm_clf)], voting='soft')"
   ]
  },
  {
   "cell_type": "code",
   "execution_count": 38,
   "id": "0eb2ec77",
   "metadata": {},
   "outputs": [
    {
     "name": "stdout",
     "output_type": "stream",
     "text": [
      "9509.822798490524 seconds for Voting soft fitting\n"
     ]
    }
   ],
   "source": [
    "st = time.time()\n",
    "voting_clf2.fit(X_train_scaled, y_train)\n",
    "ed = time.time()\n",
    "print(ed - st, \"seconds for Voting soft fitting\")"
   ]
  },
  {
   "cell_type": "code",
   "execution_count": 39,
   "id": "36b4c3dd",
   "metadata": {},
   "outputs": [
    {
     "name": "stdout",
     "output_type": "stream",
     "text": [
      "0.9387654320987654 , Voting soft\n",
      "124.18127179145813 seconds for voting soft score\n"
     ]
    }
   ],
   "source": [
    "st = time.time()\n",
    "print(voting_clf2.score(X_val_scaled, y_val), \", Voting soft\")\n",
    "ed = time. time()\n",
    "print(ed - st, \"seconds for voting soft score\")"
   ]
  },
  {
   "cell_type": "markdown",
   "id": "7fd2ff9d",
   "metadata": {},
   "source": [
    "voting결과가 향상이 이루어지지 않아서 시간이 더 짧은 ExtraTree로 선택함"
   ]
  },
  {
   "cell_type": "markdown",
   "id": "c5014217",
   "metadata": {},
   "source": [
    "# Fine-tune the model"
   ]
  },
  {
   "cell_type": "code",
   "execution_count": 13,
   "id": "8c3a7c93",
   "metadata": {},
   "outputs": [
    {
     "name": "stdout",
     "output_type": "stream",
     "text": [
      "time: 59.67785406112671 Score: 0.9417283950617283 \n",
      " ExtraTreesClassifier(random_state=42, warm_start=True)\n",
      "time: 61.150940895080566 Score: 0.941358024691358 \n",
      " ExtraTreesClassifier(max_leaf_nodes=20000, random_state=42, warm_start=True)\n",
      "time: 61.412755250930786 Score: 0.941358024691358 \n",
      " ExtraTreesClassifier(max_leaf_nodes=18000, random_state=42, warm_start=True)\n",
      "time: 70.59319424629211 Score: 0.941358024691358 \n",
      " ExtraTreesClassifier(max_leaf_nodes=16000, random_state=42, warm_start=True)\n",
      "time: 66.50427889823914 Score: 0.9398765432098766 \n",
      " ExtraTreesClassifier(max_leaf_nodes=14000, random_state=42, warm_start=True)\n",
      "time: 50.574790239334106 Score: 0.9353086419753086 \n",
      " ExtraTreesClassifier(min_samples_leaf=2, random_state=42, warm_start=True)\n",
      "time: 57.196614265441895 Score: 0.938395061728395 \n",
      " ExtraTreesClassifier(max_leaf_nodes=20000, min_samples_leaf=2, random_state=42,\n",
      "                     warm_start=True)\n",
      "time: 56.032721281051636 Score: 0.938395061728395 \n",
      " ExtraTreesClassifier(max_leaf_nodes=18000, min_samples_leaf=2, random_state=42,\n",
      "                     warm_start=True)\n",
      "time: 56.05113101005554 Score: 0.938395061728395 \n",
      " ExtraTreesClassifier(max_leaf_nodes=16000, min_samples_leaf=2, random_state=42,\n",
      "                     warm_start=True)\n",
      "time: 52.68207788467407 Score: 0.938395061728395 \n",
      " ExtraTreesClassifier(max_leaf_nodes=14000, min_samples_leaf=2, random_state=42,\n",
      "                     warm_start=True)\n",
      "time: 45.9550940990448 Score: 0.9348148148148148 \n",
      " ExtraTreesClassifier(min_samples_leaf=3, random_state=42, warm_start=True)\n",
      "time: 50.17281770706177 Score: 0.9335802469135802 \n",
      " ExtraTreesClassifier(max_leaf_nodes=20000, min_samples_leaf=3, random_state=42,\n",
      "                     warm_start=True)\n",
      "time: 49.77986979484558 Score: 0.9335802469135802 \n",
      " ExtraTreesClassifier(max_leaf_nodes=18000, min_samples_leaf=3, random_state=42,\n",
      "                     warm_start=True)\n",
      "time: 50.53169798851013 Score: 0.9335802469135802 \n",
      " ExtraTreesClassifier(max_leaf_nodes=16000, min_samples_leaf=3, random_state=42,\n",
      "                     warm_start=True)\n",
      "time: 52.14055299758911 Score: 0.9335802469135802 \n",
      " ExtraTreesClassifier(max_leaf_nodes=14000, min_samples_leaf=3, random_state=42,\n",
      "                     warm_start=True)\n",
      "time: 51.436848163604736 Score: 0.9292592592592592 \n",
      " ExtraTreesClassifier(min_samples_leaf=4, random_state=42, warm_start=True)\n",
      "time: 63.04941487312317 Score: 0.9307407407407408 \n",
      " ExtraTreesClassifier(max_leaf_nodes=20000, min_samples_leaf=4, random_state=42,\n",
      "                     warm_start=True)\n",
      "time: 58.599759340286255 Score: 0.9307407407407408 \n",
      " ExtraTreesClassifier(max_leaf_nodes=18000, min_samples_leaf=4, random_state=42,\n",
      "                     warm_start=True)\n",
      "time: 53.90355587005615 Score: 0.9307407407407408 \n",
      " ExtraTreesClassifier(max_leaf_nodes=16000, min_samples_leaf=4, random_state=42,\n",
      "                     warm_start=True)\n",
      "time: 59.31480956077576 Score: 0.9307407407407408 \n",
      " ExtraTreesClassifier(max_leaf_nodes=14000, min_samples_leaf=4, random_state=42,\n",
      "                     warm_start=True)\n",
      "time: 45.80349516868591 Score: 0.9255555555555556 \n",
      " ExtraTreesClassifier(min_samples_leaf=5, random_state=42, warm_start=True)\n",
      "time: 55.43081998825073 Score: 0.9250617283950617 \n",
      " ExtraTreesClassifier(max_leaf_nodes=20000, min_samples_leaf=5, random_state=42,\n",
      "                     warm_start=True)\n",
      "time: 49.06759738922119 Score: 0.9250617283950617 \n",
      " ExtraTreesClassifier(max_leaf_nodes=18000, min_samples_leaf=5, random_state=42,\n",
      "                     warm_start=True)\n",
      "time: 49.531529664993286 Score: 0.9250617283950617 \n",
      " ExtraTreesClassifier(max_leaf_nodes=16000, min_samples_leaf=5, random_state=42,\n",
      "                     warm_start=True)\n",
      "time: 48.9141845703125 Score: 0.9250617283950617 \n",
      " ExtraTreesClassifier(max_leaf_nodes=14000, min_samples_leaf=5, random_state=42,\n",
      "                     warm_start=True)\n",
      "time: 41.96581435203552 Score: 0.9213580246913581 \n",
      " ExtraTreesClassifier(min_samples_leaf=6, random_state=42, warm_start=True)\n",
      "time: 47.47902035713196 Score: 0.9258024691358024 \n",
      " ExtraTreesClassifier(max_leaf_nodes=20000, min_samples_leaf=6, random_state=42,\n",
      "                     warm_start=True)\n",
      "time: 46.14858150482178 Score: 0.9258024691358024 \n",
      " ExtraTreesClassifier(max_leaf_nodes=18000, min_samples_leaf=6, random_state=42,\n",
      "                     warm_start=True)\n",
      "time: 44.955766677856445 Score: 0.9258024691358024 \n",
      " ExtraTreesClassifier(max_leaf_nodes=16000, min_samples_leaf=6, random_state=42,\n",
      "                     warm_start=True)\n",
      "time: 49.46632695198059 Score: 0.9258024691358024 \n",
      " ExtraTreesClassifier(max_leaf_nodes=14000, min_samples_leaf=6, random_state=42,\n",
      "                     warm_start=True)\n"
     ]
    }
   ],
   "source": [
    "from sklearn.base import clone\n",
    "from sklearn.metrics import accuracy_score\n",
    "\n",
    "minleaves = [1, 2, 3, 4, 5, 6]\n",
    "maxleaves = [None, 20000, 18000, 16000, 14000]\n",
    "\n",
    "best_score = 0.00\n",
    "\n",
    "best_model = None\n",
    "\n",
    "for minleaf in minleaves:\n",
    "    for maxleaf in maxleaves:\n",
    "        extra_trees_clf = ExtraTreesClassifier(min_samples_leaf = minleaf,\n",
    "                                 max_leaf_nodes = maxleaf,warm_start = True, random_state=42)\n",
    "        start=time.time()\n",
    "        extra_trees_clf.fit(X_train_scaled, y_train)\n",
    "        end=time.time()\n",
    "\n",
    "        y_pred = extra_trees_clf.predict(X_val_scaled)\n",
    "        score = accuracy_score(y_val, y_pred)\n",
    "        print(\"time:\",end-start,\"Score:\",score,\n",
    "              \"\\n\",extra_trees_clf)\n",
    "            \n",
    "        if best_score<score:\n",
    "            best_score = score\n",
    "            best_model = clone(extra_trees_clf)"
   ]
  },
  {
   "cell_type": "code",
   "execution_count": 93,
   "id": "64a972dc",
   "metadata": {},
   "outputs": [
    {
     "data": {
      "text/plain": [
       "(0.9417283950617283, ExtraTreesClassifier(random_state=42, warm_start=True))"
      ]
     },
     "execution_count": 93,
     "metadata": {},
     "output_type": "execute_result"
    }
   ],
   "source": [
    "best_score, best_model"
   ]
  },
  {
   "cell_type": "code",
   "execution_count": 94,
   "id": "0ec19a61",
   "metadata": {},
   "outputs": [],
   "source": [
    "n_epochs = 500\n",
    "train_accuracy,val_accuracy = [], []\n",
    "best_model.n_estimators = 1\n",
    "for epoch in range(n_epochs):\n",
    "    best_model.fit(X_train_scaled, y_train)\n",
    "    y_train_predict = best_model.predict(X_train_scaled)\n",
    "    y_val_predict = best_model.predict(X_val_scaled)\n",
    "    train_accuracy.append(accuracy_score(y_train, y_train_predict)) \n",
    "    val_accuracy.append(accuracy_score(y_val, y_val_predict))\n",
    "    best_model.n_estimators += 1\n",
    "best_model.n_estimators-=1\n"
   ]
  },
  {
   "cell_type": "code",
   "execution_count": 95,
   "id": "19caa74c",
   "metadata": {},
   "outputs": [
    {
     "name": "stdout",
     "output_type": "stream",
     "text": [
      "Saving figure early_stopping_plot\n"
     ]
    },
    {
     "data": {
      "image/png": "[encoded data removed]",
      "text/plain": [
       "<Figure size 432x288 with 1 Axes>"
      ]
     },
     "metadata": {
      "needs_background": "light"
     },
     "output_type": "display_data"
    }
   ],
   "source": [
    "plt.plot(val_accuracy, \"b-\", linewidth=3, label=\"Val data\")\n",
    "plt.plot(train_accuracy, \"r--\", linewidth=2, label=\"Train data\")\n",
    "plt.legend(loc=\"upper right\", fontsize=14)\n",
    "plt.xlabel(\"Epoch\", fontsize=14)\n",
    "plt.ylabel(\"accuracy\", fontsize=14)\n",
    "save_fig(\"early_stopping_plot\")\n",
    "plt.show()\n",
    "\n",
    "best_val_accuracy = max(val_accuracy)\n",
    "best_epoch = np.argmax(val_accuracy)+1\n"
   ]
  },
  {
   "cell_type": "code",
   "execution_count": 46,
   "id": "1427bcfd",
   "metadata": {},
   "outputs": [
    {
     "data": {
      "text/plain": [
       "ExtraTreesClassifier(n_estimators=500, random_state=42)"
      ]
     },
     "execution_count": 46,
     "metadata": {},
     "output_type": "execute_result"
    }
   ],
   "source": [
    "best_model"
   ]
  },
  {
   "cell_type": "code",
   "execution_count": 39,
   "id": "85d84d62",
   "metadata": {},
   "outputs": [
    {
     "name": "stdout",
     "output_type": "stream",
     "text": [
      "score : 0.9423456790123457 , train time = 295.2800512313843 seconds, inference time = 2.629145383834839 seconds ExtraTreesClassifier(n_estimators=500, random_state=42)\n"
     ]
    }
   ],
   "source": [
    "st=time.time()\n",
    "best_model=ExtraTreesClassifier(n_estimators=500, random_state=42)\n",
    "best_model.fit(X_train_scaled, y_train)\n",
    "ed=time.time()\n",
    "best_train_time=ed-st\n",
    "\n",
    "st=time.time()\n",
    "best_test_score=best_model.score(X_test_scaled,y_test)\n",
    "ed=time.time()\n",
    "inference_time = ed-st\n",
    "print(\"score :\",best_test_score,\", train time =\",best_train_time,\"seconds, inference time =\",inference_time,\"seconds\",best_model)"
   ]
  },
  {
   "cell_type": "markdown",
   "id": "0b95835d",
   "metadata": {},
   "source": [
    "n_estimators=500은 시간이 너무 오래 걸리므로 덜 걸리는 파라미터를 선정 --> n_estimators=220"
   ]
  },
  {
   "cell_type": "code",
   "execution_count": 40,
   "id": "44971ec2",
   "metadata": {},
   "outputs": [
    {
     "name": "stdout",
     "output_type": "stream",
     "text": [
      "score : 0.9417283950617283 , train time = 133.10065507888794 seconds, inference time = 1.0128686428070068 seconds ExtraTreesClassifier(n_estimators=220, random_state=42)\n"
     ]
    }
   ],
   "source": [
    "st=time.time()\n",
    "best_model=ExtraTreesClassifier(n_estimators=220, random_state=42)\n",
    "best_model.fit(X_train_scaled, y_train)\n",
    "ed=time.time()\n",
    "best_train_time=ed-st\n",
    "\n",
    "st=time.time()\n",
    "best_test_score=best_model.score(X_test_scaled,y_test)\n",
    "ed=time.time()\n",
    "inference_time = ed-st\n",
    "print(\"score :\",best_test_score,\", train time =\",best_train_time,\"seconds, inference time =\",inference_time,\"seconds\",best_model)"
   ]
  },
  {
   "cell_type": "code",
   "execution_count": null,
   "id": "90723861",
   "metadata": {},
   "outputs": [],
   "source": []
  }
 ],
 "metadata": {
  "kernelspec": {
   "display_name": "Python 3",
   "language": "python",
   "name": "python3"
  },
  "language_info": {
   "codemirror_mode": {
    "name": "ipython",
    "version": 3
   },
   "file_extension": ".py",
   "mimetype": "text/x-python",
   "name": "python",
   "nbconvert_exporter": "python",
   "pygments_lexer": "ipython3",
   "version": "3.8.8"
  }
 },
 "nbformat": 4,
 "nbformat_minor": 5
}
